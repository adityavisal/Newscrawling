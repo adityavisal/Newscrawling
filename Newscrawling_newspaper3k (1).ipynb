{
  "nbformat": 4,
  "nbformat_minor": 0,
  "metadata": {
    "colab": {
      "provenance": [],
      "collapsed_sections": []
    },
    "kernelspec": {
      "name": "python3",
      "display_name": "Python 3"
    },
    "language_info": {
      "name": "python"
    }
  },
  "cells": [
    {
      "cell_type": "code",
      "execution_count": 1,
      "metadata": {
        "colab": {
          "base_uri": "https://localhost:8080/"
        },
        "id": "47dQ612gyWU4",
        "outputId": "97ea1a23-37a6-4e63-d485-5a6f57e94939"
      },
      "outputs": [
        {
          "output_type": "stream",
          "name": "stdout",
          "text": [
            "Looking in indexes: https://pypi.org/simple, https://us-python.pkg.dev/colab-wheels/public/simple/\n",
            "Collecting newspaper3k\n",
            "  Downloading newspaper3k-0.2.8-py3-none-any.whl (211 kB)\n",
            "\u001b[K     |████████████████████████████████| 211 kB 4.1 MB/s \n",
            "\u001b[?25hCollecting tldextract>=2.0.1\n",
            "  Downloading tldextract-3.4.0-py3-none-any.whl (93 kB)\n",
            "\u001b[K     |████████████████████████████████| 93 kB 2.2 MB/s \n",
            "\u001b[?25hRequirement already satisfied: python-dateutil>=2.5.3 in /usr/local/lib/python3.7/dist-packages (from newspaper3k) (2.8.2)\n",
            "Collecting feedparser>=5.2.1\n",
            "  Downloading feedparser-6.0.10-py3-none-any.whl (81 kB)\n",
            "\u001b[K     |████████████████████████████████| 81 kB 9.0 MB/s \n",
            "\u001b[?25hCollecting feedfinder2>=0.0.4\n",
            "  Downloading feedfinder2-0.0.4.tar.gz (3.3 kB)\n",
            "Requirement already satisfied: requests>=2.10.0 in /usr/local/lib/python3.7/dist-packages (from newspaper3k) (2.23.0)\n",
            "Requirement already satisfied: lxml>=3.6.0 in /usr/local/lib/python3.7/dist-packages (from newspaper3k) (4.9.1)\n",
            "Requirement already satisfied: nltk>=3.2.1 in /usr/local/lib/python3.7/dist-packages (from newspaper3k) (3.7)\n",
            "Requirement already satisfied: Pillow>=3.3.0 in /usr/local/lib/python3.7/dist-packages (from newspaper3k) (7.1.2)\n",
            "Collecting cssselect>=0.9.2\n",
            "  Downloading cssselect-1.2.0-py2.py3-none-any.whl (18 kB)\n",
            "Requirement already satisfied: beautifulsoup4>=4.4.1 in /usr/local/lib/python3.7/dist-packages (from newspaper3k) (4.6.3)\n",
            "Collecting jieba3k>=0.35.1\n",
            "  Downloading jieba3k-0.35.1.zip (7.4 MB)\n",
            "\u001b[K     |████████████████████████████████| 7.4 MB 43.1 MB/s \n",
            "\u001b[?25hCollecting tinysegmenter==0.3\n",
            "  Downloading tinysegmenter-0.3.tar.gz (16 kB)\n",
            "Requirement already satisfied: PyYAML>=3.11 in /usr/local/lib/python3.7/dist-packages (from newspaper3k) (6.0)\n",
            "Requirement already satisfied: six in /usr/local/lib/python3.7/dist-packages (from feedfinder2>=0.0.4->newspaper3k) (1.15.0)\n",
            "Collecting sgmllib3k\n",
            "  Downloading sgmllib3k-1.0.0.tar.gz (5.8 kB)\n",
            "Requirement already satisfied: joblib in /usr/local/lib/python3.7/dist-packages (from nltk>=3.2.1->newspaper3k) (1.2.0)\n",
            "Requirement already satisfied: click in /usr/local/lib/python3.7/dist-packages (from nltk>=3.2.1->newspaper3k) (7.1.2)\n",
            "Requirement already satisfied: regex>=2021.8.3 in /usr/local/lib/python3.7/dist-packages (from nltk>=3.2.1->newspaper3k) (2022.6.2)\n",
            "Requirement already satisfied: tqdm in /usr/local/lib/python3.7/dist-packages (from nltk>=3.2.1->newspaper3k) (4.64.1)\n",
            "Requirement already satisfied: idna<3,>=2.5 in /usr/local/lib/python3.7/dist-packages (from requests>=2.10.0->newspaper3k) (2.10)\n",
            "Requirement already satisfied: certifi>=2017.4.17 in /usr/local/lib/python3.7/dist-packages (from requests>=2.10.0->newspaper3k) (2022.9.24)\n",
            "Requirement already satisfied: urllib3!=1.25.0,!=1.25.1,<1.26,>=1.21.1 in /usr/local/lib/python3.7/dist-packages (from requests>=2.10.0->newspaper3k) (1.24.3)\n",
            "Requirement already satisfied: chardet<4,>=3.0.2 in /usr/local/lib/python3.7/dist-packages (from requests>=2.10.0->newspaper3k) (3.0.4)\n",
            "Collecting requests-file>=1.4\n",
            "  Downloading requests_file-1.5.1-py2.py3-none-any.whl (3.7 kB)\n",
            "Requirement already satisfied: filelock>=3.0.8 in /usr/local/lib/python3.7/dist-packages (from tldextract>=2.0.1->newspaper3k) (3.8.0)\n",
            "Building wheels for collected packages: tinysegmenter, feedfinder2, jieba3k, sgmllib3k\n",
            "  Building wheel for tinysegmenter (setup.py) ... \u001b[?25l\u001b[?25hdone\n",
            "  Created wheel for tinysegmenter: filename=tinysegmenter-0.3-py3-none-any.whl size=13553 sha256=b79425c4cf54d53f9f8671ff66e2e0fbf8cef2ad6229c50c52d2a4b9b4e3fd29\n",
            "  Stored in directory: /root/.cache/pip/wheels/df/67/41/faca10fa501ca010be41b49d40360c2959e1c4f09bcbfa37fa\n",
            "  Building wheel for feedfinder2 (setup.py) ... \u001b[?25l\u001b[?25hdone\n",
            "  Created wheel for feedfinder2: filename=feedfinder2-0.0.4-py3-none-any.whl size=3357 sha256=a08f95bcb83218dccf9bbe2d43ab95b0b454dec9bdc0374017a2c912f21f3763\n",
            "  Stored in directory: /root/.cache/pip/wheels/7f/d4/8f/6e2ca54744c9d7292d88ddb8d42876bcdab5e6d84a21c10346\n",
            "  Building wheel for jieba3k (setup.py) ... \u001b[?25l\u001b[?25hdone\n",
            "  Created wheel for jieba3k: filename=jieba3k-0.35.1-py3-none-any.whl size=7398404 sha256=833b41ac72448b373ca4821a8f5074cdf51c0fe91e0da4c6486d24da880a49a1\n",
            "  Stored in directory: /root/.cache/pip/wheels/4c/91/46/3c208287b726df325a5979574324878b679116e4baae1af3c3\n",
            "  Building wheel for sgmllib3k (setup.py) ... \u001b[?25l\u001b[?25hdone\n",
            "  Created wheel for sgmllib3k: filename=sgmllib3k-1.0.0-py3-none-any.whl size=6066 sha256=012973c70c37d2d6984e4f1b4d30470051c237191ed9150ee98b78ee1ed2943c\n",
            "  Stored in directory: /root/.cache/pip/wheels/73/ad/a4/0dff4a6ef231fc0dfa12ffbac2a36cebfdddfe059f50e019aa\n",
            "Successfully built tinysegmenter feedfinder2 jieba3k sgmllib3k\n",
            "Installing collected packages: sgmllib3k, requests-file, tldextract, tinysegmenter, jieba3k, feedparser, feedfinder2, cssselect, newspaper3k\n",
            "Successfully installed cssselect-1.2.0 feedfinder2-0.0.4 feedparser-6.0.10 jieba3k-0.35.1 newspaper3k-0.2.8 requests-file-1.5.1 sgmllib3k-1.0.0 tinysegmenter-0.3 tldextract-3.4.0\n"
          ]
        }
      ],
      "source": [
        "! pip install newspaper3k"
      ]
    },
    {
      "cell_type": "code",
      "source": [
        "from newspaper import Config\n",
        "from newspaper import Article\n",
        "\n",
        "USER_AGENT = 'Mozilla/5.0 (Macintosh; Intel Mac OS X 10.15; rv:78.0) Gecko/20100101 Firefox/78.0'\n",
        "\n",
        "config = Config()\n",
        "config.browser_user_agent = USER_AGENT\n",
        "config.request_timeout = 10"
      ],
      "metadata": {
        "id": "MV-eaYCDy4QK"
      },
      "execution_count": 2,
      "outputs": []
    },
    {
      "cell_type": "code",
      "source": [
        "urlOfarticle = ['https://timesofindia.indiatimes.com/sports/cricket/icc-mens-t20-world-cup/indiat20-world-cup/t20-world-cup-suryakumar-yadav-helps-india-set-up-semi-final-clash-against-england/articleshow/95345397.cms','https://economictimes.indiatimes.com/news/international/business/after-fridays-mass-layoffs-twitter-now-asks-some-fired-workers-to-please-come-back/articleshow/95343987.cms','https://www.moneycontrol.com/news/business/startup/udaan-prepares-to-lay-off-over-10-of-employees-a-week-after-120-million-financing-9450121.html']"
      ],
      "metadata": {
        "id": "CHAnARrXy5TN"
      },
      "execution_count": 10,
      "outputs": []
    },
    {
      "cell_type": "code",
      "source": [
        "! pip install nltk"
      ],
      "metadata": {
        "colab": {
          "base_uri": "https://localhost:8080/"
        },
        "id": "bPp-OHHp4HcA",
        "outputId": "9e25c9a6-ebd4-4e2e-8c27-06170895faa8"
      },
      "execution_count": 14,
      "outputs": [
        {
          "output_type": "stream",
          "name": "stdout",
          "text": [
            "Looking in indexes: https://pypi.org/simple, https://us-python.pkg.dev/colab-wheels/public/simple/\n",
            "Requirement already satisfied: nltk in /usr/local/lib/python3.7/dist-packages (3.7)\n",
            "Requirement already satisfied: tqdm in /usr/local/lib/python3.7/dist-packages (from nltk) (4.64.1)\n",
            "Requirement already satisfied: joblib in /usr/local/lib/python3.7/dist-packages (from nltk) (1.2.0)\n",
            "Requirement already satisfied: regex>=2021.8.3 in /usr/local/lib/python3.7/dist-packages (from nltk) (2022.6.2)\n",
            "Requirement already satisfied: click in /usr/local/lib/python3.7/dist-packages (from nltk) (7.1.2)\n"
          ]
        }
      ]
    },
    {
      "cell_type": "code",
      "source": [
        "nltk.download('punkt') "
      ],
      "metadata": {
        "colab": {
          "base_uri": "https://localhost:8080/"
        },
        "id": "i_xi-GT84LIx",
        "outputId": "8ea806d3-8d1a-4d48-ec3a-930f4164720b"
      },
      "execution_count": 15,
      "outputs": [
        {
          "output_type": "stream",
          "name": "stderr",
          "text": [
            "[nltk_data] Downloading package punkt to /root/nltk_data...\n",
            "[nltk_data]   Unzipping tokenizers/punkt.zip.\n"
          ]
        },
        {
          "output_type": "execute_result",
          "data": {
            "text/plain": [
              "True"
            ]
          },
          "metadata": {},
          "execution_count": 15
        }
      ]
    },
    {
      "cell_type": "code",
      "source": [
        "import csv\n",
        "import nltk\n",
        "import pandas as pd\n",
        "import numpy as np\n",
        "from datetime import datetime"
      ],
      "metadata": {
        "id": "1roc4uDU0GSq"
      },
      "execution_count": 19,
      "outputs": []
    },
    {
      "cell_type": "code",
      "source": [
        "# article = Article(base_url, config=config)\n",
        "# article.download()\n",
        "# article.parse()\n",
        "# article_meta_data = article.meta_data\n",
        "\n",
        "# published_date = {value for (key, value) in article_meta_data.items() if key == 'article.published'}\n",
        "# print(published_date)\n",
        "# article_published_date = \" \".join(str(x) for x in published_date)\n",
        "# print(article_published_date)\n",
        "# authors = sorted({value for (key, value) in article_meta_data.items()if key == 'author'})\n",
        "# article_author = ', '.join(authors)\n",
        "\n",
        "# title = {value for (key, value) in article_meta_data.items() if key == 'article.headline'}\n",
        "# article_title = \" \".join(str(x) for x in title)\n",
        "\n",
        "# summary = {value for (key, value) in article_meta_data.items() if key == 'article.summary'}\n",
        "# article_summary = \" \".join(str(x) for x in summary)\n",
        "\n",
        "# keywords = ''.join({value for (key, value) in article_meta_data.items() if key == 'news_keywords'})\n",
        "# keywords_list = sorted(keywords.lower().split(','))\n",
        "# article_keywords = ', '.join(keywords_list)\n",
        "\n",
        "# with open('wsj_extraction_results.csv', 'a', newline='') as csvfile:\n",
        "#     headers = ['date published', 'article authors', 'article title', 'article summary', 'article keywords']\n",
        "#     writer = csv.DictWriter(csvfile, delimiter=',', lineterminator='\\n', fieldnames=headers)\n",
        "#     writer.writeheader()\n",
        "\n",
        "#     writer.writerow({'date published': article_published_date,\n",
        "#                      'article authors': article_author,\n",
        "#                      'article title': article_title,\n",
        "#                      'article summary': article_summary,\n",
        "#                      'article keywords': article_keywords})"
      ],
      "metadata": {
        "colab": {
          "base_uri": "https://localhost:8080/"
        },
        "id": "GxCINPrczGDj",
        "outputId": "fc0f1d30-9abc-44bf-db92-3feae4081643"
      },
      "execution_count": 8,
      "outputs": [
        {
          "output_type": "stream",
          "name": "stdout",
          "text": [
            "set()\n",
            "\n"
          ]
        }
      ]
    },
    {
      "cell_type": "code",
      "source": [
        "df_list = []\n",
        "\n",
        "for url in urlOfarticle:\n",
        "    \n",
        "    instanceofArticle = Article(url, language = \"en\",config = config)\n",
        "    \n",
        "    instanceofArticle.download()\n",
        "    instanceofArticle.parse()\n",
        "    instanceofArticle.nlp()\n",
        "    instanceofArticle.html\n",
        "    instanceofArticle.title\n",
        "    title = instanceofArticle.title\n",
        "    article_meta_data = instanceofArticle.meta_data\n",
        "   \n",
        "    author = instanceofArticle.authors\n",
        "    date_published = ''.join([value for (key, value) in instanceofArticle_dictionary.items() if key == 'datePublished'])\n",
        "    clean_date = datetime.strptime(date_published, \"%Y-%m-%dT%H:%M:%S.%f%z\").strftime('%Y-%m-%d')\n",
        "\n",
        "\n",
        "    #pb_date = instanceofArticle.publish_date\n",
        "    #article_published_date = str({value for (key, value) in pb_date.items() if key == 'instanceofArticle.published'})\n",
        "    #soup = BeautifulSoup(instanceofArticle.html, 'html.parser')\n",
        "    #dictionary = json.loads(\"\".join(soup.find(\"script\", {\"type\":\"application/ld+json\"}).contents))\n",
        "    #date_published = [value for (key, value) in dictionary.items() if key == 'datePublished']\n",
        "  \n",
        "\n",
        "    text = instanceofArticle.text\n",
        "    dict1= {'author':author, 'publish_date':article_published_date,'text':text,'title': title}\n",
        "\n",
        "    df_list.append(dict1)\n",
        "\n",
        "\n",
        "\n",
        "#df6 = pd.DataFrame(df_list)\n",
        "\n",
        "#df6.to_csv(r'C:\\Users\\adityav\\Documents\\Rresults.csv',index = False)"
      ],
      "metadata": {
        "colab": {
          "base_uri": "https://localhost:8080/",
          "height": 235
        },
        "id": "GxguRxsuzG2N",
        "outputId": "7e1e5bf6-c470-4b09-db38-ff90281c3908"
      },
      "execution_count": 25,
      "outputs": [
        {
          "output_type": "error",
          "ename": "NameError",
          "evalue": "ignored",
          "traceback": [
            "\u001b[0;31m---------------------------------------------------------------------------\u001b[0m",
            "\u001b[0;31mNameError\u001b[0m                                 Traceback (most recent call last)",
            "\u001b[0;32m<ipython-input-25-1f4cbe331d4b>\u001b[0m in \u001b[0;36m<module>\u001b[0;34m\u001b[0m\n\u001b[1;32m     14\u001b[0m \u001b[0;34m\u001b[0m\u001b[0m\n\u001b[1;32m     15\u001b[0m     \u001b[0mauthor\u001b[0m \u001b[0;34m=\u001b[0m \u001b[0minstanceofArticle\u001b[0m\u001b[0;34m.\u001b[0m\u001b[0mauthors\u001b[0m\u001b[0;34m\u001b[0m\u001b[0;34m\u001b[0m\u001b[0m\n\u001b[0;32m---> 16\u001b[0;31m     \u001b[0mdate_published\u001b[0m \u001b[0;34m=\u001b[0m \u001b[0;34m''\u001b[0m\u001b[0;34m.\u001b[0m\u001b[0mjoin\u001b[0m\u001b[0;34m(\u001b[0m\u001b[0;34m[\u001b[0m\u001b[0mvalue\u001b[0m \u001b[0;32mfor\u001b[0m \u001b[0;34m(\u001b[0m\u001b[0mkey\u001b[0m\u001b[0;34m,\u001b[0m \u001b[0mvalue\u001b[0m\u001b[0;34m)\u001b[0m \u001b[0;32min\u001b[0m \u001b[0minstanceofArticle_dictionary\u001b[0m\u001b[0;34m.\u001b[0m\u001b[0mitems\u001b[0m\u001b[0;34m(\u001b[0m\u001b[0;34m)\u001b[0m \u001b[0;32mif\u001b[0m \u001b[0mkey\u001b[0m \u001b[0;34m==\u001b[0m \u001b[0;34m'datePublished'\u001b[0m\u001b[0;34m]\u001b[0m\u001b[0;34m)\u001b[0m\u001b[0;34m\u001b[0m\u001b[0;34m\u001b[0m\u001b[0m\n\u001b[0m\u001b[1;32m     17\u001b[0m     \u001b[0mclean_date\u001b[0m \u001b[0;34m=\u001b[0m \u001b[0mdatetime\u001b[0m\u001b[0;34m.\u001b[0m\u001b[0mstrptime\u001b[0m\u001b[0;34m(\u001b[0m\u001b[0mdate_published\u001b[0m\u001b[0;34m,\u001b[0m \u001b[0;34m\"%Y-%m-%dT%H:%M:%S.%f%z\"\u001b[0m\u001b[0;34m)\u001b[0m\u001b[0;34m.\u001b[0m\u001b[0mstrftime\u001b[0m\u001b[0;34m(\u001b[0m\u001b[0;34m'%Y-%m-%d'\u001b[0m\u001b[0;34m)\u001b[0m\u001b[0;34m\u001b[0m\u001b[0;34m\u001b[0m\u001b[0m\n\u001b[1;32m     18\u001b[0m \u001b[0;34m\u001b[0m\u001b[0m\n",
            "\u001b[0;31mNameError\u001b[0m: name 'instanceofArticle_dictionary' is not defined"
          ]
        }
      ]
    },
    {
      "cell_type": "code",
      "source": [
        "df_list"
      ],
      "metadata": {
        "colab": {
          "base_uri": "https://localhost:8080/"
        },
        "id": "wyr_gJg64Z5h",
        "outputId": "c0f55cec-a318-4d8f-8f0b-d22ee1e20406"
      },
      "execution_count": 22,
      "outputs": [
        {
          "output_type": "execute_result",
          "data": {
            "text/plain": [
              "[{'author': [],\n",
              "  'publish_date': 'set()',\n",
              "  'text': \"’s repertoire of audacious strokeplay stuns hapless\\n\\nas India win by 71 runs to top group\\n\\n1 / 13 T20 WC: 'SKY' stars as India beat Zimbabwe to set up England semi-final Previous Next Show Captions <p>Suryakumar Yadav hit a blazing unbeaten 61 as India set up a T20 World Cup semi-final against England by crushing Zimbabwe by 71 runs at a packed Melbourne Cricket Ground.</p> <p>India were flying at 87-1 but the loss of three quick wickets slowed them down before Yadav set the proceedings alight, smashing 6 sixes in his 25-ball blitz to steer them to 186-5.</p> <p>Zimbabwe lost two wickets for two runs in reply and were never in the hunt, capitulating in the 17th over in front of 82,507 fans. Ravichandran Ashwin took 3-22 for a rampant India.</p> <p>India finished at the top of Group 2 to tee up a last-four clash with England, who finished second in Group 1. The two sides face off at the Adelaide Oval on Thursday.</p> <p>Opting to bat, Rohit Sharma was just getting in the groove when he misjudged a pull shot and was out for 15, caught in the deep by Wellington Masakadza.</p> <p>Kohli, who became the highest run-scorer in T20 World Cup history last week, holed out on 26 to Ryan Burl, undone by the spin of Sean Williams.</p> <p>Rahul brought up an entertaining 50 with a six off Sikandar Raza but departed next ball trying for another, taken on the boundary by Masakadza for 51.</p> <p>Williams and Burl combined again to remove Rishabh Pant (3) before Yadav and Hardik Pandya (18) took India to good total.</p> <p>Zimbabwe's chase got off to a horror start with Wesley Madhevere out first ball, flashing Bhuvneshwar Kumar to the covers, where Kohli hung on.<br /></p> <p>It went from bad to worse when Regis Chakabva also fell without scoring, bowled by Arshdeep Singh to leave them on 2-2.</p> <p>Williams and skipper Craig Ervine put on 26 for the third wicket before both departed in the space of six balls.</p> <p>Raza and Burl came to the rescue as they put on 60 runs before Burl was bowled by Ashwin for a 22-ball 35.</p>\\n\\nMELBOURNE: A delightful, breathless assault from Suryakumar Yadav (61 not out off 25 balls; 6x4, 4x6) was the highlight of India’s 71-run decimation of Zimbabwe at the ‘G’ on Sunday night.KL Rahul too chipped in with a second consecutive half-century before the bowlers made quick work of the opposition line-up to hammer home the point that there would be no change in the status quo when India took the field. The day had started, after all, with the Netherlands upsetting South Africa to upend all predictions in Group 2, but a brutally dominating performance ensured that India ended as group toppers. They will now play England in the second semifinal at the Adelaide Oval next Thursday.Surya’s repertoire of audacious strokeplay, all powerful wrists and maddening angles even as he chases perfection at the point of contact, was on view as India, batting first, exploded to 186/5 in 20 overs after another sedate start. The scoops, the sweeps, the pick-up shots, the lofted drives all melted into one in a maverick display of T20 batting genius. Before Suryakumar, the possibility of routinely pulling off such shots, with such immaculate placement, was perhaps only in the realm of imagination.Zimbabwe’s hapless bowlers watched even as their slower ones and cutters disappeared into the stands. Surya ended with a strike rate of 244 and the fourth fastest 50 (off 23 balls) for India in T20 World Cups. India scored 79 off the last five overs, with ‘SKY’ scoring his last 56 runs off 19 balls. This was Suryakumar’s sixth innings of 50-plus at a strike rate of 200 or above in T20Is, making him, of course, the first Indian to achieve the feat. It was as if Suryakumar brought a fly swatter, not a bat, to brush the bowlers aside. By the end of 15 overs, India were plodding along at 7. 13, with Suryakumar and Hardik feeling their way in the middle.The return of Blessing Muzarabani’s pace, though, woke up ‘SKY’ as he unfurled his full range of strokes: second ball of the 16th, an ugly thick edge over the ’keeper. Not pretty but a boundary. Next ball, driven on the up to beat mid-off. Another four. Hardik too came into his own and the over yielded 18 runs.Surya’s onslaught picked up more steam in the 17th over, bowled by the left-armer Richard Ngarava : a wide full toss guided over the third man fence. Third ball, a six, the pick-up shot this time over backward square.Next over, a wide slow off-cutter from Tendai Chatara scooped over short fine, and then a powerful hit over extra cover for six to close out the over. Twelve off the 17th, 15 off the 18th. The next over, Muzarabani bowls a slow yorker at SKY’s legs, only to see the batter make room and use those magical wrists to hammer it straight down.Two sixes and a four followed in the 20th, the last six, off the last ball from Ngarava, a wide yorker unbelievably played over his shoulder, ‘SKY’ nearly tumbling over but ensuring that everything was perfect at the point of contact.The Surya magic bewitched Zimbabwe. Batting hasn’t been their strong suit in this tournament and when Bhuvneshwar got Madhevere first ball with an away swinger, the writing was on the wall. By the end of the Powerplay Zimbabwe were 28/3 and by the 9th over, they were 47-5. Any semblance of a contest was effectively over.Only Sikandar Raza yet again played lone ranger with a 24-ball 34 as Zimbabwe reached 115 before losing all their wickets in 17.2 overs. This was a good workout for India ahead of the knockouts and the win will keep them in a good headspace ahead of the England game.In the end, it was Suryakumar’s pyrotechnics, perfectly suited to the colour and noise of T20s, that won the day for the 82,507 in attendance at the ‘G’.\",\n",
              "  'title': 'Suryakumar Yadav helps India set up semi-final clash against England'},\n",
              " {'author': [],\n",
              "  'publish_date': 'set()',\n",
              "  'text': 'Regarding Twitter’s reduction in force, unfortunately there is no choice when the company is losing over $4M/day.… https://t.co/beSHf4nXgF — Elon Musk (@elonmusk) 1667603694000\\n\\nTwitter Inc., after laying off roughly half the company on Friday following Elon Musk ’s $44 billion acquisition, is now reaching out to dozens of employees who lost their jobs and asking them to return.Some of those who are being asked to return were laid off by mistake, according to two people familiar with the moves. Others were let go before management realized that their work and experience may be necessary to build the new features Musk envisions, the people said, asking not to be identified discussing private information.Twitter cut close to 3,700 people this week via email as a way to trim costs following Musk’s acquisition, which closed in late October. Many employees learned they lost their job after their access to company-wide systems, like email and Slack, were suddenly suspended. The requests for employees to return demonstrate how rushed and chaotic the process was.A Twitter spokesperson did not reply to a request for comment. Twitter’s plan to hire back workers was previously reported by Platformer.“Regarding Twitter’s reduction in force, unfortunately there is no choice when the company is losing over $4M/day,” Musk tweeted on Friday.Twitter has close to 3,700 employees remaining, according to people familiar with the matter. Musk is pushing those who remain at the company to move quickly in shipping new features, and in some cases, employees have even slept at the office to meet new deadlines.Over the weekend, Twitter rolled out a new Twitter Blue subscription plan, offering a verification check mark for any user who pays $8 a month. The company also said it will soon be launching other features, including half the ads, the ability to post longer videos and get priority ranking in replies, mentions and searches.The New York Times on Sunday reported Twitter will delay changes to the check marks until after Tuesday’s midterm elections, after users and employees raised concerns that the plan could be misused to sow discord.',\n",
              "  'title': \"After Friday's mass layoffs, Twitter now asks some fired workers to please come back\"},\n",
              " {'author': ['Deepsekhar Choudhury'],\n",
              "  'publish_date': 'set()',\n",
              "  'text': \"Udaan has over 3 million registered users and 25,000-30,000 sellers across 900+ cities.\\n\\nA week after securing $120 million in convertible debt, business-to-business e-commerce unicorn Udaan is preparing to lay off 325-350 employees, according to a source close to the developments.\\n\\nA number of off-payroll contractual workers will also be impacted by the cost-cutting measure, but Moneycontrol could not ascertain the exact figure.\\n\\nUdaan has around 3,000 employees on the rolls while 10,000-12,000 people work for the company via outsourcing firms.\\n\\n“The off-payroll workers impacted include roles like those involved in loading and unloading packages and delivery workers as the number of warehouses are being reduced,” said the source.\\n\\n“The company also has a lot of feet on the street who onboard kirana stores to the platform and teach them how to use it. They are generally offered contracts of 6-12 months which are not renewed when the digitisation work in one area has been completed,” he added.\\n\\nThe Morning Context was the first to report the development.\\n\\nThis is the second round of layoffs at Udaan in the space of a few months. In June, the company had let go of around 180 employees.\\n\\n“As we move forward in our journey towards making Udaan a profitable company, the efficiency enhancement drive and the evolution in business model have created some redundancies in the system, with some roles no longer required. As a responsible organisation, we are working towards providing all requisite support to the impacted employees,” said an Udaan spokesperson.\\n\\nIn an e-mail to employees last month, chief financial officer Aditya Pandey had said that the company is getting ready to go public in the next 12-18 months. He said that Udaan’s unit economics had improved by approximately 1,000 basis points, with equally strong improvements in both gross margins and operating cost. This, he claimed, has translated into a 60 percent-plus reduction in cash-burn.\\n\\nUdaan has raised $350 million of financing through debt and convertible notes in the last four quarters. It had last raised equity funding in January 2020, when it was valued at $3.1 billion. Its investors include DST Global, Lightspeed Venture Partners, and GGV Capital, among others.\\n\\nNotably, the e-commerce unicorn’s valuation crawled from $2.8 billion in 2019 to $3 billion in January 2021 compared to other e-commerce peers – unlike its previous euphoric rise – during the pandemic.\\n\\nFounded in 2016 by three former executives of Flipkart -- Vaibhav Gupta, Amod Malviya, and Sujeet Kumar -- the company has operations across categories including lifestyle, electronics, home & kitchen, staples, fruits & vegetables, FMCG, pharma, toys, and general merchandise.\\n\\nIn September last year, the company said that Gupta has been appointed as the CEO in line with the evolution needed to become a publicly listed company in 18-24 months. Before the announcement, there wasn't a CEO structure in place with the three co-founders divvying up responsibilities.\\n\\nUdaan has over 3 million registered users and 25,000-30,000 sellers across 900+ cities, according to the company’s website. The platform has over 1.7 million retailers, chemists, kirana shops, hotels/restaurants/caterers, and farmers carrying out over 4.5 million transactions a month.\",\n",
              "  'title': 'Udaan prepares to lay off over 10% of employees, a week after $120 million financing'}]"
            ]
          },
          "metadata": {},
          "execution_count": 22
        }
      ]
    },
    {
      "cell_type": "code",
      "source": [
        "import json\n",
        "import pandas as pd\n",
        "from datetime import datetime\n",
        "from newspaper import Config\n",
        "from newspaper import Article\n",
        "from newspaper.utils import BeautifulSoup\n",
        "\n",
        "\n",
        "\n",
        "USER_AGENT = 'Mozilla/5.0 (Macintosh; Intel Mac OS X 10.15; rv:78.0) Gecko/20100101 Firefox/78.0'\n",
        "\n",
        "config = Config()\n",
        "config.browser_user_agent = USER_AGENT\n",
        "config.request_timeout = 10\n",
        "\n",
        "\n",
        "def path_to_image_html(link):\n",
        "    \"\"\"\n",
        "    Converts image links to HTML tags\n",
        "    :param link: image URL\n",
        "    :return: URL wrapped in clickable HTML tag\n",
        "    \"\"\"\n",
        "    return f'<a href=\"{link}\"> <img src=\"{link}\" width=\"60\" > </a>'\n",
        "\n",
        "\n",
        "def harvest_article_content(website):\n",
        "    \"\"\"\n",
        "    Queries and extracts specific content from a LA Times article.\n",
        "    :param website: URL for a LA Times article\n",
        "    :return: pandas dataframe\n",
        "    \"\"\"\n",
        "    df_latimes_extraction = pd.DataFrame(columns=['Date Published', 'URL', 'Author', 'Title',\n",
        "                                                  'Summary', 'Text', 'Main Image'])\n",
        "\n",
        "    article = Article(website, config=config)\n",
        "    article.download()\n",
        "    article.parse()\n",
        "\n",
        "    soup = BeautifulSoup(article.html, 'html.parser')\n",
        "    la_times_dictionary = json.loads(\"\".join(soup.find(\"script\", {\"type\": \"application/ld+json\"}).contents))\n",
        "\n",
        "    date_published = ''.join([value for (key, value) in la_times_dictionary.items() if key == 'datePublished'])\n",
        "    clean_date = datetime.datetime.strftime(date_published, \"%b-%d-%Y%H:%M:%S.%f%z\").strftime('%b-%d-%Y')\n",
        "\n",
        "    article_author = ''.join([value[0]['name'] for (key, value) in la_times_dictionary.items() if key == 'author'])\n",
        "    article_title = ''.join([value for (key, value) in la_times_dictionary.items() if key == 'headline'])\n",
        "    article_url = ''.join([value for (key, value) in la_times_dictionary.items() if key == 'url'])\n",
        "    article_description = ''.join([value for (key, value) in la_times_dictionary.items() if key == 'description'])\n",
        "    article_body = ''.join([value.replace('\\n', ' ') for (key, value) in la_times_dictionary.items() if key ==\n",
        "                            'articleBody'])\n",
        "\n",
        "    local_df = save_article_data(df_latimes_extraction, clean_date,\n",
        "                                 f'<a href=\"{article_url}\">{article_url}</a>',\n",
        "                                 article_author,\n",
        "                                 article_title,\n",
        "                                 article_description,\n",
        "                                 article_body,\n",
        "                                 article.top_image)\n",
        "    return local_df\n",
        "\n",
        "\n",
        "def save_article_data(df, published_date, website, authors, title, summary, text, main_image):\n",
        "    \"\"\"\n",
        "    Writes extracted article content to a pandas dataframe.\n",
        "\n",
        "    :param df: pandas dataframe\n",
        "    :param published_date: article's published date\n",
        "    :param website: article's URL\n",
        "    :param authors: article's author\n",
        "    :param title: article's title\n",
        "    :param summary: article's summary\n",
        "    :param text: article's text\n",
        "    :param main_image: article's top image\n",
        "    :return: pandas dataframe\n",
        "    \"\"\"\n",
        "    local_df = df.append({'Date Published': published_date,\n",
        "                          'URL': website,\n",
        "                          'Author': authors,\n",
        "                          'Title': title,\n",
        "                          'Summary': summary,\n",
        "                          'Text': text,\n",
        "                          'Main Image': path_to_image_html(main_image)}, ignore_index=True)\n",
        "    return local_df\n",
        "\n",
        "\n",
        "def create_html_file(df):\n",
        "    \"\"\"\n",
        "    Writes a pandas dataframe that contains extracted article content to a HTML file.\n",
        "\n",
        "    :param df: pandas dataframe\n",
        "    :return:\n",
        "    \"\"\"\n",
        "    pd.set_option('colheader_justify', 'center')\n",
        "\n",
        "    html_string = '''\n",
        "    <html>\n",
        "      <head>\n",
        "      <meta charset=\"utf-8\">\n",
        "      <title>Los Angeles Times Article Information</title></head>\n",
        "      <link rel=\"stylesheet\" type=\"text/css\" href=\"df_style.css\"/>\n",
        "      <body>\n",
        "        {table}\n",
        "      </body>\n",
        "    </html>.\n",
        "    '''\n",
        "\n",
        "    with open('latimes_results.html', 'w') as f:\n",
        "        f.write(html_string.format(table=df.to_html(index=False, escape=False, classes='mystyle')))\n",
        "\n",
        "    return None\n",
        "\n",
        "\n",
        "# List used to store pandas content extracted \n",
        "# from articles.\n",
        "article_data = []\n",
        "\n",
        "urls = ['https://timesofindia.indiatimes.com/sports/cricket/icc-mens-t20-world-cup/indiat20-world-cup/t20-world-cup-suryakumar-yadav-helps-india-set-up-semi-final-clash-against-england/articleshow/95345397.cms','https://economictimes.indiatimes.com/news/international/business/after-fridays-mass-layoffs-twitter-now-asks-some-fired-workers-to-please-come-back/articleshow/95343987.cms']\n",
        "for url in urls:\n",
        "    results = harvest_article_content(url)\n",
        "    article_data.append(results)\n",
        "\n",
        "# concat all the article content into a new pandas dataframe.\n",
        "df_latimes = pd.concat(article_data)\n",
        "\n",
        "# Create the HTML file \n",
        "create_html_file(df_latimes)\n"
      ],
      "metadata": {
        "colab": {
          "base_uri": "https://localhost:8080/",
          "height": 391
        },
        "id": "pA-7Ia1j7WZt",
        "outputId": "7bb02ebd-b441-49c8-838b-f6e926b627fe"
      },
      "execution_count": 45,
      "outputs": [
        {
          "output_type": "error",
          "ename": "AttributeError",
          "evalue": "ignored",
          "traceback": [
            "\u001b[0;31m---------------------------------------------------------------------------\u001b[0m",
            "\u001b[0;31mAttributeError\u001b[0m                            Traceback (most recent call last)",
            "\u001b[0;32m<ipython-input-45-b7dc291d5bb7>\u001b[0m in \u001b[0;36m<module>\u001b[0;34m\u001b[0m\n\u001b[1;32m    117\u001b[0m \u001b[0murls\u001b[0m \u001b[0;34m=\u001b[0m \u001b[0;34m[\u001b[0m\u001b[0;34m'https://timesofindia.indiatimes.com/sports/cricket/icc-mens-t20-world-cup/indiat20-world-cup/t20-world-cup-suryakumar-yadav-helps-india-set-up-semi-final-clash-against-england/articleshow/95345397.cms'\u001b[0m\u001b[0;34m,\u001b[0m\u001b[0;34m'https://economictimes.indiatimes.com/news/international/business/after-fridays-mass-layoffs-twitter-now-asks-some-fired-workers-to-please-come-back/articleshow/95343987.cms'\u001b[0m\u001b[0;34m]\u001b[0m\u001b[0;34m\u001b[0m\u001b[0;34m\u001b[0m\u001b[0m\n\u001b[1;32m    118\u001b[0m \u001b[0;32mfor\u001b[0m \u001b[0murl\u001b[0m \u001b[0;32min\u001b[0m \u001b[0murls\u001b[0m\u001b[0;34m:\u001b[0m\u001b[0;34m\u001b[0m\u001b[0;34m\u001b[0m\u001b[0m\n\u001b[0;32m--> 119\u001b[0;31m     \u001b[0mresults\u001b[0m \u001b[0;34m=\u001b[0m \u001b[0mharvest_article_content\u001b[0m\u001b[0;34m(\u001b[0m\u001b[0murl\u001b[0m\u001b[0;34m)\u001b[0m\u001b[0;34m\u001b[0m\u001b[0;34m\u001b[0m\u001b[0m\n\u001b[0m\u001b[1;32m    120\u001b[0m     \u001b[0marticle_data\u001b[0m\u001b[0;34m.\u001b[0m\u001b[0mappend\u001b[0m\u001b[0;34m(\u001b[0m\u001b[0mresults\u001b[0m\u001b[0;34m)\u001b[0m\u001b[0;34m\u001b[0m\u001b[0;34m\u001b[0m\u001b[0m\n\u001b[1;32m    121\u001b[0m \u001b[0;34m\u001b[0m\u001b[0m\n",
            "\u001b[0;32m<ipython-input-45-b7dc291d5bb7>\u001b[0m in \u001b[0;36mharvest_article_content\u001b[0;34m(website)\u001b[0m\n\u001b[1;32m     41\u001b[0m \u001b[0;34m\u001b[0m\u001b[0m\n\u001b[1;32m     42\u001b[0m     \u001b[0mdate_published\u001b[0m \u001b[0;34m=\u001b[0m \u001b[0;34m''\u001b[0m\u001b[0;34m.\u001b[0m\u001b[0mjoin\u001b[0m\u001b[0;34m(\u001b[0m\u001b[0;34m[\u001b[0m\u001b[0mvalue\u001b[0m \u001b[0;32mfor\u001b[0m \u001b[0;34m(\u001b[0m\u001b[0mkey\u001b[0m\u001b[0;34m,\u001b[0m \u001b[0mvalue\u001b[0m\u001b[0;34m)\u001b[0m \u001b[0;32min\u001b[0m \u001b[0mla_times_dictionary\u001b[0m\u001b[0;34m.\u001b[0m\u001b[0mitems\u001b[0m\u001b[0;34m(\u001b[0m\u001b[0;34m)\u001b[0m \u001b[0;32mif\u001b[0m \u001b[0mkey\u001b[0m \u001b[0;34m==\u001b[0m \u001b[0;34m'datePublished'\u001b[0m\u001b[0;34m]\u001b[0m\u001b[0;34m)\u001b[0m\u001b[0;34m\u001b[0m\u001b[0;34m\u001b[0m\u001b[0m\n\u001b[0;32m---> 43\u001b[0;31m     \u001b[0mclean_date\u001b[0m \u001b[0;34m=\u001b[0m \u001b[0mdatetime\u001b[0m\u001b[0;34m.\u001b[0m\u001b[0mdatetime\u001b[0m\u001b[0;34m.\u001b[0m\u001b[0mstrftime\u001b[0m\u001b[0;34m(\u001b[0m\u001b[0mdate_published\u001b[0m\u001b[0;34m,\u001b[0m \u001b[0;34m\"%b-%d-%Y%H:%M:%S.%f%z\"\u001b[0m\u001b[0;34m)\u001b[0m\u001b[0;34m.\u001b[0m\u001b[0mstrftime\u001b[0m\u001b[0;34m(\u001b[0m\u001b[0;34m'%b-%d-%Y'\u001b[0m\u001b[0;34m)\u001b[0m\u001b[0;34m\u001b[0m\u001b[0;34m\u001b[0m\u001b[0m\n\u001b[0m\u001b[1;32m     44\u001b[0m \u001b[0;34m\u001b[0m\u001b[0m\n\u001b[1;32m     45\u001b[0m     \u001b[0marticle_author\u001b[0m \u001b[0;34m=\u001b[0m \u001b[0;34m''\u001b[0m\u001b[0;34m.\u001b[0m\u001b[0mjoin\u001b[0m\u001b[0;34m(\u001b[0m\u001b[0;34m[\u001b[0m\u001b[0mvalue\u001b[0m\u001b[0;34m[\u001b[0m\u001b[0;36m0\u001b[0m\u001b[0;34m]\u001b[0m\u001b[0;34m[\u001b[0m\u001b[0;34m'name'\u001b[0m\u001b[0;34m]\u001b[0m \u001b[0;32mfor\u001b[0m \u001b[0;34m(\u001b[0m\u001b[0mkey\u001b[0m\u001b[0;34m,\u001b[0m \u001b[0mvalue\u001b[0m\u001b[0;34m)\u001b[0m \u001b[0;32min\u001b[0m \u001b[0mla_times_dictionary\u001b[0m\u001b[0;34m.\u001b[0m\u001b[0mitems\u001b[0m\u001b[0;34m(\u001b[0m\u001b[0;34m)\u001b[0m \u001b[0;32mif\u001b[0m \u001b[0mkey\u001b[0m \u001b[0;34m==\u001b[0m \u001b[0;34m'author'\u001b[0m\u001b[0;34m]\u001b[0m\u001b[0;34m)\u001b[0m\u001b[0;34m\u001b[0m\u001b[0;34m\u001b[0m\u001b[0m\n",
            "\u001b[0;31mAttributeError\u001b[0m: type object 'datetime.datetime' has no attribute 'datetime'"
          ]
        }
      ]
    },
    {
      "cell_type": "code",
      "source": [],
      "metadata": {
        "id": "dUfhlIhfFoAl"
      },
      "execution_count": null,
      "outputs": []
    }
  ]
}